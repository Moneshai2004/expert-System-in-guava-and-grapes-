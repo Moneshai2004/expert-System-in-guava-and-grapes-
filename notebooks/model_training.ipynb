{
 "cells": [
  {
   "cell_type": "code",
   "execution_count": null,
   "metadata": {},
   "outputs": [],
   "source": [
    "# Model Training Notebook\n",
    "from src.cnn_model import build_cnn_model\n",
    "import tensorflow as tf\n",
    "import os\n",
    "\n",
    "# Prepare the dataset\n",
    "train_data_dir = '../data/images/train'\n",
    "valid_data_dir = '../data/images/valid'\n",
    "\n",
    "train_datagen = tf.keras.preprocessing.image.ImageDataGenerator(rescale=1.0/255)\n",
    "valid_datagen = tf.keras.preprocessing.image.ImageDataGenerator(rescale=1.0/255)\n",
    "\n",
    "train_data = train_datagen.flow_from_directory(train_data_dir, target_size=(224, 224), class_mode='categorical')\n",
    "valid_data = valid_datagen.flow_from_directory(valid_data_dir, target_size=(224, 224), class_mode='categorical')\n",
    "\n",
    "# Build and compile the model\n",
    "cnn_model = build_cnn_model(input_shape=(224, 224, 3), num_classes=train_data.num_classes)\n",
    "\n",
    "# Train the model\n",
    "history = cnn_model.fit(train_data, validation_data=valid_data, epochs=10)\n",
    "\n",
    "# Save the trained model\n",
    "cnn_model.save('../models/cnn_model.h5')\n"
   ]
  }
 ],
 "metadata": {
  "language_info": {
   "name": "python"
  }
 },
 "nbformat": 4,
 "nbformat_minor": 2
}
