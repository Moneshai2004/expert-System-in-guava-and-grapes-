{
 "cells": [
  {
   "cell_type": "code",
   "execution_count": null,
   "metadata": {},
   "outputs": [],
   "source": [
    "# Model Evaluation Notebook\n",
    "from tensorflow.keras.models import load_model\n",
    "import tensorflow as tf\n",
    "from sklearn.metrics import classification_report\n",
    "\n",
    "# Load the model\n",
    "model = load_model('../models/cnn_model.h5')\n",
    "\n",
    "# Load validation data\n",
    "valid_data_dir = '../data/images/valid'\n",
    "valid_datagen = tf.keras.preprocessing.image.ImageDataGenerator(rescale=1.0/255)\n",
    "valid_data = valid_datagen.flow_from_directory(valid_data_dir, target_size=(224, 224), class_mode='categorical', shuffle=False)\n",
    "\n",
    "# Predict and evaluate\n",
    "predictions = model.predict(valid_data)\n",
    "y_pred = predictions.argmax(axis=1)\n",
    "y_true = valid_data.classes\n",
    "\n",
    "print(\"Classification Report:\")\n",
    "print(classification_report(y_true, y_pred))\n"
   ]
  }
 ],
 "metadata": {
  "language_info": {
   "name": "python"
  }
 },
 "nbformat": 4,
 "nbformat_minor": 2
}
