{
 "cells": [
  {
   "cell_type": "code",
   "execution_count": null,
   "metadata": {},
   "outputs": [],
   "source": [
    "import kagglehub\n",
    "\n",
    "# Download latest version\n",
    "path = kagglehub.dataset_download(\"rm1000/grape-disease-dataset-original\")\n",
    "\n",
    "print(\"Path to dataset files:\", path)"
   ]
  },
  {
   "cell_type": "code",
   "execution_count": null,
   "metadata": {},
   "outputs": [],
   "source": [
    "import kagglehub\n",
    "\n",
    "# Download latest version\n",
    "path = kagglehub.dataset_download(\"noamaanabdulazeem/guava-dataset\")\n",
    "\n",
    "print(\"Path to dataset files:\", path)"
   ]
  },
  {
   "cell_type": "code",
   "execution_count": null,
   "metadata": {},
   "outputs": [],
   "source": [
    "# Data Preprocessing Notebook\n",
    "import pandas as pd\n",
    "from sklearn.preprocessing import MinMaxScaler\n",
    "import cv2\n",
    "import os\n",
    "\n",
    "# Load environmental data\n",
    "data = pd.read_csv('../data/environmental_data.csv')\n",
    "print(\"Original Data:\")\n",
    "print(data.head())\n",
    "\n",
    "# Normalize the environmental data\n",
    "scaler = MinMaxScaler()\n",
    "scaled_data = pd.DataFrame(scaler.fit_transform(data.iloc[:, :-1]), columns=data.columns[:-1])\n",
    "scaled_data['Yield'] = data['Yield']\n",
    "print(\"Normalized Data:\")\n",
    "print(scaled_data.head())\n",
    "\n",
    "# Save normalized data\n",
    "scaled_data.to_csv('../data/environmental_data_normalized.csv', index=False)\n",
    "\n",
    "# Image resizing and normalization\n",
    "image_dir = '../data/images/train'\n",
    "output_dir = '../data/images_preprocessed/train'\n",
    "\n",
    "if not os.path.exists(output_dir):\n",
    "    os.makedirs(output_dir)\n",
    "\n",
    "for img_name in os.listdir(image_dir):\n",
    "    img_path = os.path.join(image_dir, img_name)\n",
    "    img = cv2.imread(img_path)\n",
    "    img_resized = cv2.resize(img, (224, 224))\n",
    "    cv2.imwrite(os.path.join(output_dir, img_name), img_resized)\n"
   ]
  }
 ],
 "metadata": {
  "language_info": {
   "name": "python"
  }
 },
 "nbformat": 4,
 "nbformat_minor": 2
}
